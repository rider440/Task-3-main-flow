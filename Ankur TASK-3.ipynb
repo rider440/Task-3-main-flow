{
 "cells": [
  {
   "cell_type": "code",
   "execution_count": 12,
   "id": "6d766745-8af3-43ff-8dbe-a5c746141e79",
   "metadata": {},
   "outputs": [
    {
     "name": "stdout",
     "output_type": "stream",
     "text": [
      "Page Successfully Scraped!\n"
     ]
    }
   ],
   "source": [
    "#  Basic Web Scraper Setup with BeautifulSoup\n",
    "import requests\n",
    "from bs4 import BeautifulSoup\n",
    "\n",
    "scp=\"https://www.javatpoint.com/\"    #Assign URL of a website  to scrap\n",
    "response=requests.get(scp)                       #GET request to to fetch the website content\n",
    "\n",
    "if response.status_code==200:\n",
    "    soup=BeautifulSoup(response.content,\"html.parser\")\n",
    "    print(\"Page Successfully Scraped!\")\n",
    "else:\n",
    "    print(\"Failed to retrieve the page.\")"
   ]
  },
  {
   "cell_type": "code",
   "execution_count": 13,
   "id": "72940da1-71ba-465f-9061-2fdf82bdc788",
   "metadata": {
    "scrolled": true
   },
   "outputs": [
    {
     "name": "stdout",
     "output_type": "stream",
     "text": [
      "Links:\n",
      " ['/', '#', '/python-tutorial', '/django-tutorial', '/numpy-tutorial', '/python-pandas', '/python-tkinter', '/pytorch', '/flask-tutorial', '/opencv', '/artificial-intelligence-ai', '/machine-learning', '/data-science', '/deep-learning', '/tensorflow', '/artificial-neural-network', '/matplotlib', '/python-scipy', '/java-tutorial', '/servlet-tutorial', '/jsp-tutorial', '/spring-boot-tutorial', '/spring-tutorial', '/hibernate-tutorial', '/javafx-tutorial', '/java-web-services-tutorial', '/dbms-tutorial', '/data-structure-tutorial', '/operating-system', '/computer-network-tutorial', '/daa-tutorial', '/computer-organization-and-architecture-tutorial', '/software-engineering', '/data-mining', '/html-tutorial', '/css-tutorial', '/javascript-tutorial', '/jquery-tutorial', '/angular-8', '/reactjs-tutorial', '/react-native-tutorial', '/nodejs-tutorial', '/software-testing-tutorial', '/selenium-tutorial', '/jira-tutorial', '/jmeter-tutorial', '/postman', '/testng-tutorial', '/soapui', '/cucumber-testing', '#', '/c-interview-questions', '/cpp-interview-questions', '/php-interview-questions', '/corejava-interview-questions', '/python-interview-questions', '/javascript-interview-questions', '/typescript-interview-questions', '/jdbc-interview-questions', '/servletinterview', '/maven-interview-questions', '/jenkins-interview-questions', '/spring-interview-questions', '/spring-boot-interview-questions', '/jdb-interview-questions', '/hibernate-interview-questions', '/jsf-interview-questions', '/html-interview-questions', '/css-interview-questions', '/javascript-interview-questions', '/jquery-interview-questions', '/angular-interview-questions', '/node-js-interview-questions', '/ajax-interview-questions', '/dbms-interview-questions', '/sql-interview-questions', '/pl-sql-interview-questions', '/oracle-interview-questions', '/mysql-interview-questions', '/mongodb-interview-questions', '/redis-interview-questions-and-answers', '/mariadb-interview-questions', '/ibm-interview-questions', '/adobe-interview-questions', '/microsoft-interview-questions', '/amazon-interview-questions', '/tcs-interview-questions', '/hcl-interview-questions', '/wipro-interview-questions', '/dxc-technology-interview-questions', '/accenture-interview-questions', '/capgemini-interview-questions', '/spacex-interview-questions', '/ericsson-interview-questions', '/infosys-interview-questions', '/igate-interview-questions', '/exl-interview-questions', '/indiamart-interview-questions', '/sapient-interview-questions', '#', '/compiler/python', '/compiler/java', '/compiler/php', '/compiler/c', '/compiler/cpp', '/compiler/r', '/compiler/html', '/compiler/javascript', '/compiler/typescript', '/compiler/swift', '#', '#', '#', '#', '#', '#', '#', '#', '#', '#', '#', 'python-tutorial', 'selenium-python', 'django-tutorial', 'flask-tutorial', 'numpy-tutorial', 'python-tkinter', 'pytorch', 'pygame', 'python-scipy', 'python-pandas', 'opencv', 'matplotlib', 'python-openpyxl', 'kivy', 'jupyter-notebook', 'python-cgi-programming', 'python-tutorial', 'selenium-python', 'django-tutorial', 'flask-tutorial', 'numpy-tutorial', 'python-tkinter', 'pytorch', 'pygame', 'python-scipy', 'python-pandas', 'opencv', 'matplotlib', 'python-openpyxl', 'kivy', 'jupyter-notebook', 'python-cgi-programming', 'python-tutorial', 'selenium-python', 'django-tutorial', 'flask-tutorial', 'numpy-tutorial', 'python-tkinter', 'pytorch', 'pygame', 'python-scipy', 'python-pandas', 'opencv', 'matplotlib', 'python-openpyxl', 'kivy', 'jupyter-notebook', 'python-cgi-programming', 'python-tutorial', 'selenium-python', 'django-tutorial', 'flask-tutorial', 'numpy-tutorial', 'python-tkinter', 'pytorch', 'pygame', 'python-scipy', 'python-pandas', 'opencv', 'matplotlib', 'python-openpyxl', 'kivy', 'jupyter-notebook', 'python-cgi-programming', 'python-tutorial', 'selenium-python', 'django-tutorial', 'flask-tutorial', 'numpy-tutorial', 'python-tkinter', 'pytorch', 'pygame', 'python-scipy', 'python-pandas', 'opencv', 'matplotlib', 'python-openpyxl', 'kivy', 'jupyter-notebook', 'python-cgi-programming', 'python-tutorial', 'selenium-python', 'django-tutorial', 'flask-tutorial', 'numpy-tutorial', 'python-tkinter', 'pytorch', 'pygame', 'python-scipy', 'python-pandas', 'opencv', 'matplotlib', 'python-openpyxl', 'kivy', 'jupyter-notebook', 'python-cgi-programming', 'python-tutorial', 'selenium-python', 'django-tutorial', 'flask-tutorial', 'numpy-tutorial', 'python-tkinter', 'pytorch', 'pygame', 'python-scipy', 'python-pandas', 'opencv', 'matplotlib', 'python-openpyxl', 'kivy', 'jupyter-notebook', 'python-cgi-programming', 'python-tutorial', 'selenium-python', 'django-tutorial', 'flask-tutorial', 'numpy-tutorial', 'python-tkinter', 'pytorch', 'pygame', 'python-scipy', 'python-pandas', 'opencv', 'matplotlib', 'python-openpyxl', 'kivy', 'jupyter-notebook', 'python-cgi-programming', 'python-tutorial', 'selenium-python', 'django-tutorial', 'flask-tutorial', 'numpy-tutorial', 'python-tkinter', 'pytorch', 'pygame', 'python-scipy', 'python-pandas', 'opencv', 'matplotlib', 'python-openpyxl', 'kivy', 'jupyter-notebook', 'python-cgi-programming', 'python-tutorial', 'selenium-python', 'django-tutorial', 'flask-tutorial', 'numpy-tutorial', 'python-tkinter', 'pytorch', 'pygame', 'python-scipy', 'python-pandas', 'opencv', 'matplotlib', 'python-openpyxl', 'kivy', 'jupyter-notebook', 'python-cgi-programming', 'python-tutorial', 'selenium-python', 'django-tutorial', 'flask-tutorial', 'numpy-tutorial', 'python-tkinter', 'pytorch', 'pygame', 'python-scipy', 'python-pandas', 'opencv', 'matplotlib', 'python-openpyxl', 'kivy', 'jupyter-notebook', 'python-cgi-programming', 'https://www.youtube.com/channel/UCUnYvQVCrJoFWZhKK3O2xLg', 'blog-files', 'essay', 'gadgets-review', 'laptop-review', 'project-management', 'top-10', 'tourist-places', 'tv-review', 'university', 'biometrics-tutorial', 'bootstrap-5', 'what-is-chatgpt', 'qtp', 'rxjs', 'data-structure-tutorial', 'c-programming-language-tutorial', '/cdn-cgi/l/email-protection', 'https://www.facebook.com/javatpoint', 'https://twitter.com/pagejavatpoint', '', 'https://javatpoint.blogspot.com', 'https://www.youtube.com/channel/UCUnYvQVCrJoFWZhKK3O2xLg', '/latest-post', '/privacy-policy', '/java-tutorial', '/data-structure-tutorial', '/c-programming-language-tutorial', '/cpp-tutorial', '/c-sharp-tutorial', '/php-tutorial', '/html-tutorial', '/javascript-tutorial', '/jquery-tutorial', '/spring-tutorial', '/microsoft-interview-questions', '/amazon-interview-questions', '/adobe-interview-questions', '/intuit-interview-questions', '/accenture-interview-questions', '/cognizant-interview-questions', '/capgemini-interview-questions', '/wipro-interview-questions', '/tcs-interview-questions', '/infosys-interview-questions', '/compiler/c', '/compiler/r', '/compiler/cpp', '/compiler/php', '/compiler/java', '/compiler/html', '/compiler/swift', '/compiler/python', '/compiler/javascript', '/compiler/typescript', '#']\n",
      "\n",
      "\n",
      "Images:\n",
      " ['/static/img/logo.png', 'https://images.javatpoint.com/images/small_home.png', 'https://images.javatpoint.com/images/home-1.png', '/static/img/shape4.png', '/static/img/shape2.png', '/static/img/shape3.png', '/static/img/shape1.png', 'images/homeicon/python.png', 'images/homeicon/selenium-python.png', 'images/homeicon/django.png', 'images/homeicon/flask.png', 'images/homeicon/numpy.png', 'images/homeicon/tkinter.png', 'images/homeicon/pytorch.png', 'images/homeicon/pygame.png', 'images/homeicon/scipy.png', 'images/homeicon/pandas.png', 'images/homeicon/opencv.png', 'images/homeicon/matplotlib.png', 'images/homeicon/openpyxl.png', 'images/homeicon/kivy.png', 'images/homeicon/jupyter.png', 'images/homeicon/cgi.png', 'images/homeicon/python.png', 'images/homeicon/selenium-python.png', 'images/homeicon/django.png', 'images/homeicon/flask.png', 'images/homeicon/numpy.png', 'images/homeicon/tkinter.png', 'images/homeicon/pytorch.png', 'images/homeicon/pygame.png', 'images/homeicon/scipy.png', 'images/homeicon/pandas.png', 'images/homeicon/opencv.png', 'images/homeicon/matplotlib.png', 'images/homeicon/openpyxl.png', 'images/homeicon/kivy.png', 'images/homeicon/jupyter.png', 'images/homeicon/cgi.png', 'images/homeicon/python.png', 'images/homeicon/selenium-python.png', 'images/homeicon/django.png', 'images/homeicon/flask.png', 'images/homeicon/numpy.png', 'images/homeicon/tkinter.png', 'images/homeicon/pytorch.png', 'images/homeicon/pygame.png', 'images/homeicon/scipy.png', 'images/homeicon/pandas.png', 'images/homeicon/opencv.png', 'images/homeicon/matplotlib.png', 'images/homeicon/openpyxl.png', 'images/homeicon/kivy.png', 'images/homeicon/jupyter.png', 'images/homeicon/cgi.png', 'images/homeicon/python.png', 'images/homeicon/selenium-python.png', 'images/homeicon/django.png', 'images/homeicon/flask.png', 'images/homeicon/numpy.png', 'images/homeicon/tkinter.png', 'images/homeicon/pytorch.png', 'images/homeicon/pygame.png', 'images/homeicon/scipy.png', 'images/homeicon/pandas.png', 'images/homeicon/opencv.png', 'images/homeicon/matplotlib.png', 'images/homeicon/openpyxl.png', 'images/homeicon/kivy.png', 'images/homeicon/jupyter.png', 'images/homeicon/cgi.png', 'images/homeicon/python.png', 'images/homeicon/selenium-python.png', 'images/homeicon/django.png', 'images/homeicon/flask.png', 'images/homeicon/numpy.png', 'images/homeicon/tkinter.png', 'images/homeicon/pytorch.png', 'images/homeicon/pygame.png', 'images/homeicon/scipy.png', 'images/homeicon/pandas.png', 'images/homeicon/opencv.png', 'images/homeicon/matplotlib.png', 'images/homeicon/openpyxl.png', 'images/homeicon/kivy.png', 'images/homeicon/jupyter.png', 'images/homeicon/cgi.png', 'images/homeicon/python.png', 'images/homeicon/selenium-python.png', 'images/homeicon/django.png', 'images/homeicon/flask.png', 'images/homeicon/numpy.png', 'images/homeicon/tkinter.png', 'images/homeicon/pytorch.png', 'images/homeicon/pygame.png', 'images/homeicon/scipy.png', 'images/homeicon/pandas.png', 'images/homeicon/opencv.png', 'images/homeicon/matplotlib.png', 'images/homeicon/openpyxl.png', 'images/homeicon/kivy.png', 'images/homeicon/jupyter.png', 'images/homeicon/cgi.png', 'images/homeicon/python.png', 'images/homeicon/selenium-python.png', 'images/homeicon/django.png', 'images/homeicon/flask.png', 'images/homeicon/numpy.png', 'images/homeicon/tkinter.png', 'images/homeicon/pytorch.png', 'images/homeicon/pygame.png', 'images/homeicon/scipy.png', 'images/homeicon/pandas.png', 'images/homeicon/opencv.png', 'images/homeicon/matplotlib.png', 'images/homeicon/openpyxl.png', 'images/homeicon/kivy.png', 'images/homeicon/jupyter.png', 'images/homeicon/cgi.png', 'images/homeicon/python.png', 'images/homeicon/selenium-python.png', 'images/homeicon/django.png', 'images/homeicon/flask.png', 'images/homeicon/numpy.png', 'images/homeicon/tkinter.png', 'images/homeicon/pytorch.png', 'images/homeicon/pygame.png', 'images/homeicon/scipy.png', 'images/homeicon/pandas.png', 'images/homeicon/opencv.png', 'images/homeicon/matplotlib.png', 'images/homeicon/openpyxl.png', 'images/homeicon/kivy.png', 'images/homeicon/jupyter.png', 'images/homeicon/cgi.png', 'images/homeicon/python.png', 'images/homeicon/selenium-python.png', 'images/homeicon/django.png', 'images/homeicon/flask.png', 'images/homeicon/numpy.png', 'images/homeicon/tkinter.png', 'images/homeicon/pytorch.png', 'images/homeicon/pygame.png', 'images/homeicon/scipy.png', 'images/homeicon/pandas.png', 'images/homeicon/opencv.png', 'images/homeicon/matplotlib.png', 'images/homeicon/openpyxl.png', 'images/homeicon/kivy.png', 'images/homeicon/jupyter.png', 'images/homeicon/cgi.png', 'images/homeicon/python.png', 'images/homeicon/selenium-python.png', 'images/homeicon/django.png', 'images/homeicon/flask.png', 'images/homeicon/numpy.png', 'images/homeicon/tkinter.png', 'images/homeicon/pytorch.png', 'images/homeicon/pygame.png', 'images/homeicon/scipy.png', 'images/homeicon/pandas.png', 'images/homeicon/opencv.png', 'images/homeicon/matplotlib.png', 'images/homeicon/openpyxl.png', 'images/homeicon/kivy.png', 'images/homeicon/jupyter.png', 'images/homeicon/cgi.png', 'images/homeicon/python.png', 'images/homeicon/selenium-python.png', 'images/homeicon/django.png', 'images/homeicon/flask.png', 'images/homeicon/numpy.png', 'images/homeicon/tkinter.png', 'images/homeicon/pytorch.png', 'images/homeicon/pygame.png', 'images/homeicon/scipy.png', 'images/homeicon/pandas.png', 'images/homeicon/opencv.png', 'images/homeicon/matplotlib.png', 'images/homeicon/openpyxl.png', 'images/homeicon/kivy.png', 'images/homeicon/jupyter.png', 'images/homeicon/cgi.png', '/static/img/Ellipse 1.png', '/static/img/Ellipse 2.png', '/static/img/aboutjp.png', '/static/img/followers.png', 'images/homeicon/blog-files.png', 'images/homeicon/essay.png', 'images/homeicon/gadgets-review.png', 'images/homeicon/laptop-review.png', 'images/homeicon/project-management.png', 'images/homeicon/top-10.png', 'images/homeicon/tourist-places.png', 'images/homeicon/tv-review.png', 'images/homeicon/university.png', 'images/homeicon/biometrics.png', 'images/homeicon/bootstrap-5.png', 'images/homeicon/chatgpt.png', 'images/homeicon/qtp.png', 'images/homeicon/rxjs.png', 'images/homeicon/data-structures.png', 'images/homeicon/c-programming.png', '/static/img/small-testimonial.png', '/static/img/maintestimonial.png', '/static/img/smiling-testimonila.png', '/static/img/Ellipse 2.png', '/static/img/shape99.png', '/static/img/shape-test.png', 'static/img/logo.png', 'static/img/facebook.png', 'static/img/twitter.png', 'static/img/rss.png', 'static/img/jp.png', 'static/img/youtube.png']\n",
      "\n",
      "\n",
      "Texts:\n",
      " ['Free Online Tutorials', 'Get access to 500+ tutorials from top\\n                                    instructors around the\\n                                    world in one place.', 'Start learning programming language of your choice.', 'Youtube Channel', 'Choose a language and start building the future you want!.', 'Student Reviews', 'This online learning platform stands out as an excellent resource. The tutorials are top-notch, making it a must-visit for all programming enthusiasts.', 'This website offers outstanding content. The programming tutorials are incredibly informative and well-structured. Definitely a top recommendation.', 'This online tutorial site delivers exceptional learning material. The programming tutorials are concise and comprehensive, perfect for learners at any level.', \"Disclaimer: This website has no relation with 'Java', it is a free study portal where you can study 200+ technologies. It is an independent online platform created for educational and informational purposes. We don't offer any training or commercial services and will never do in future. We want to make it clear that we are not affiliated with, endorsed by, or connected in any way to Oracle Corporation or the official Java programming language trademark.\", 'The term \"Java\" and its associated logo are registered trademarks of Oracle Corporation. Any reference to Java on this website is made solely for educational purposes, and we do not claim any ownership or partnership with Oracle Corporation.', 'We provides tutorials and interview questions of all technology like java tutorial, android, java frameworks', 'G-13, 2nd Floor, Sec-3, Noida, UP, 201301, India', '[email\\xa0protected].', '\\nLatest Post\\n', '\\nPRIVACY POLICY\\n']\n",
      "\n",
      "\n"
     ]
    }
   ],
   "source": [
    "#  Extracting Links, Images, and text from a Webpage\n",
    "links= [a['href'] for a in soup.find_all('a',href=True)]\n",
    "print(\"Links:\\n\",links)\n",
    "print(\"\\n\")\n",
    "\n",
    "images= [img['src'] for img in soup.find_all('img',src=True)]\n",
    "print(\"Images:\\n\",images)\n",
    "print(\"\\n\")\n",
    "\n",
    "texts= [p.get_text() for p in soup.find_all('p')]\n",
    "print(\"Texts:\\n\",texts)\n",
    "print(\"\\n\")"
   ]
  },
  {
   "cell_type": "code",
   "execution_count": 14,
   "id": "8c531135-e714-476d-8ed1-62082c014364",
   "metadata": {},
   "outputs": [
    {
     "name": "stdout",
     "output_type": "stream",
     "text": [
      "Scraped Data successfully saved as S_Data.csv\n",
      "\n",
      "Contents of the S_Data.csv file:\n",
      "                          wlink  \\\n",
      "0                             /   \n",
      "1                             #   \n",
      "2              /python-tutorial   \n",
      "3              /django-tutorial   \n",
      "4               /numpy-tutorial   \n",
      "5                /python-pandas   \n",
      "6               /python-tkinter   \n",
      "7                      /pytorch   \n",
      "8               /flask-tutorial   \n",
      "9                       /opencv   \n",
      "10  /artificial-intelligence-ai   \n",
      "11            /machine-learning   \n",
      "12                /data-science   \n",
      "13               /deep-learning   \n",
      "14                  /tensorflow   \n",
      "15   /artificial-neural-network   \n",
      "\n",
      "                                              wimages  \\\n",
      "0                                /static/img/logo.png   \n",
      "1   https://images.javatpoint.com/images/small_hom...   \n",
      "2     https://images.javatpoint.com/images/home-1.png   \n",
      "3                              /static/img/shape4.png   \n",
      "4                              /static/img/shape2.png   \n",
      "5                              /static/img/shape3.png   \n",
      "6                              /static/img/shape1.png   \n",
      "7                          images/homeicon/python.png   \n",
      "8                 images/homeicon/selenium-python.png   \n",
      "9                          images/homeicon/django.png   \n",
      "10                          images/homeicon/flask.png   \n",
      "11                          images/homeicon/numpy.png   \n",
      "12                        images/homeicon/tkinter.png   \n",
      "13                        images/homeicon/pytorch.png   \n",
      "14                         images/homeicon/pygame.png   \n",
      "15                          images/homeicon/scipy.png   \n",
      "\n",
      "                                               wtexts  \n",
      "0                               Free Online Tutorials  \n",
      "1   Get access to 500+ tutorials from top\\n       ...  \n",
      "2   Start learning programming language of your ch...  \n",
      "3                                     Youtube Channel  \n",
      "4   Choose a language and start building the futur...  \n",
      "5                                     Student Reviews  \n",
      "6   This online learning platform stands out as an...  \n",
      "7   This website offers outstanding content. The p...  \n",
      "8   This online tutorial site delivers exceptional...  \n",
      "9   Disclaimer: This website has no relation with ...  \n",
      "10  The term \"Java\" and its associated logo are re...  \n",
      "11  We provides tutorials and interview questions ...  \n",
      "12   G-13, 2nd Floor, Sec-3, Noida, UP, 201301, India  \n",
      "13                                 [email protected].  \n",
      "14                                    \\nLatest Post\\n  \n",
      "15                                 \\nPRIVACY POLICY\\n  \n"
     ]
    }
   ],
   "source": [
    "#  Storing Scraped data in a CSV file using Pandas\n",
    "import pandas as pd\n",
    "\n",
    "min_length=min(len(links),len(images),len(texts))\n",
    "links=links[:min_length]\n",
    "images=images[:min_length]\n",
    "texts=texts[:min_length]\n",
    "data={\n",
    "    'wlink':links,\n",
    "    'wimages':images,\n",
    "    'wtexts':texts\n",
    "}\n",
    "df = pd.DataFrame(data)\n",
    "\n",
    "csv_file=\"S_Data.csv\"\n",
    "df.to_csv(\"S_Data.csv\",index=False)\n",
    "\n",
    "print(\"Scraped Data successfully saved as S_Data.csv\")\n",
    "\n",
    "print(\"\\nContents of the S_Data.csv file:\")\n",
    "print(pd.read_csv(csv_file))"
   ]
  },
  {
   "cell_type": "code",
   "execution_count": null,
   "id": "c8d97fab-c1d9-4d50-be52-6b1af4f206e5",
   "metadata": {},
   "outputs": [],
   "source": []
  }
 ],
 "metadata": {
  "kernelspec": {
   "display_name": "Python 3 (ipykernel)",
   "language": "python",
   "name": "python3"
  },
  "language_info": {
   "codemirror_mode": {
    "name": "ipython",
    "version": 3
   },
   "file_extension": ".py",
   "mimetype": "text/x-python",
   "name": "python",
   "nbconvert_exporter": "python",
   "pygments_lexer": "ipython3",
   "version": "3.12.6"
  }
 },
 "nbformat": 4,
 "nbformat_minor": 5
}
